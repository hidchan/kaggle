{
 "cells": [
  {
   "cell_type": "code",
   "execution_count": 634,
   "metadata": {},
   "outputs": [
    {
     "name": "stderr",
     "output_type": "stream",
     "text": [
      "/Users/hid/anaconda3/lib/python3.6/site-packages/sklearn/learning_curve.py:22: DeprecationWarning: This module was deprecated in version 0.18 in favor of the model_selection module into which all the functions are moved. This module will be removed in 0.20\n",
      "  DeprecationWarning)\n"
     ]
    }
   ],
   "source": [
    "import numpy as np\n",
    "import pandas as pd\n",
    "from pandas import Series,DataFrame\n",
    "import numpy as np\n",
    "import matplotlib.pyplot as plt\n",
    "import seaborn as sns\n",
    "%matplotlib inline\n",
    "from sklearn.linear_model import LogisticRegression\n",
    "from sklearn.ensemble import GradientBoostingClassifier\n",
    "from sklearn.pipeline import Pipeline\n",
    "from sklearn.preprocessing import StandardScaler\n",
    "from sklearn.grid_search import GridSearchCV\n",
    "from sklearn.metrics import confusion_matrix, classification_report\n",
    "from sklearn.utils import shuffle\n",
    "from sklearn.metrics import classification_report, roc_auc_score, precision_recall_curve, auc, roc_curve\n",
    "from sklearn.learning_curve import learning_curve"
   ]
  },
  {
   "cell_type": "code",
   "execution_count": 358,
   "metadata": {
    "collapsed": true
   },
   "outputs": [],
   "source": [
    "def feature_sex(s):\n",
    "    if(s =='male'):\n",
    "        return 0\n",
    "    else:\n",
    "        return 1"
   ]
  },
  {
   "cell_type": "code",
   "execution_count": 417,
   "metadata": {
    "collapsed": true
   },
   "outputs": [],
   "source": [
    "def feature_embarked(s):\n",
    "    if(s == 'S'):\n",
    "        return pd.Series([1,0,0])\n",
    "    elif(s =='C'):\n",
    "        return pd.Series([0,1,0])\n",
    "    elif(s =='Q'):\n",
    "        return pd.Series([0,0,1])\n",
    "    else:\n",
    "        return pd.Series([1,0,0])"
   ]
  },
  {
   "cell_type": "code",
   "execution_count": 418,
   "metadata": {
    "collapsed": true
   },
   "outputs": [],
   "source": [
    "def convert_df(titanic_df):\n",
    "    titanic_df[['S','C','Q']] = titanic_df['Embarked'].apply(feature_embarked)\n",
    "    titanic_df.drop(['Name','Ticket','Cabin','Embarked','S'],axis=1,inplace=True)\n",
    "    titanic_df['Age'].fillna(titanic_df['Age'].median(axis=0),inplace=True)\n",
    "    titanic_df['Sex'] = titanic_df['Sex'].apply(feature_sex)\n",
    "    return titanic_df"
   ]
  },
  {
   "cell_type": "code",
   "execution_count": 419,
   "metadata": {
    "collapsed": true
   },
   "outputs": [],
   "source": [
    "titanic_df = pd.read_csv('train.csv')"
   ]
  },
  {
   "cell_type": "code",
   "execution_count": 406,
   "metadata": {},
   "outputs": [
    {
     "data": {
      "text/html": [
       "<div>\n",
       "<style>\n",
       "    .dataframe thead tr:only-child th {\n",
       "        text-align: right;\n",
       "    }\n",
       "\n",
       "    .dataframe thead th {\n",
       "        text-align: left;\n",
       "    }\n",
       "\n",
       "    .dataframe tbody tr th {\n",
       "        vertical-align: top;\n",
       "    }\n",
       "</style>\n",
       "<table border=\"1\" class=\"dataframe\">\n",
       "  <thead>\n",
       "    <tr style=\"text-align: right;\">\n",
       "      <th></th>\n",
       "      <th>PassengerId</th>\n",
       "      <th>Survived</th>\n",
       "      <th>Pclass</th>\n",
       "      <th>Name</th>\n",
       "      <th>Sex</th>\n",
       "      <th>Age</th>\n",
       "      <th>SibSp</th>\n",
       "      <th>Parch</th>\n",
       "      <th>Ticket</th>\n",
       "      <th>Fare</th>\n",
       "      <th>Cabin</th>\n",
       "      <th>Embarked</th>\n",
       "    </tr>\n",
       "  </thead>\n",
       "  <tbody>\n",
       "    <tr>\n",
       "      <th>0</th>\n",
       "      <td>1</td>\n",
       "      <td>0</td>\n",
       "      <td>3</td>\n",
       "      <td>Braund, Mr. Owen Harris</td>\n",
       "      <td>male</td>\n",
       "      <td>22.0</td>\n",
       "      <td>1</td>\n",
       "      <td>0</td>\n",
       "      <td>A/5 21171</td>\n",
       "      <td>7.2500</td>\n",
       "      <td>NaN</td>\n",
       "      <td>S</td>\n",
       "    </tr>\n",
       "    <tr>\n",
       "      <th>1</th>\n",
       "      <td>2</td>\n",
       "      <td>1</td>\n",
       "      <td>1</td>\n",
       "      <td>Cumings, Mrs. John Bradley (Florence Briggs Th...</td>\n",
       "      <td>female</td>\n",
       "      <td>38.0</td>\n",
       "      <td>1</td>\n",
       "      <td>0</td>\n",
       "      <td>PC 17599</td>\n",
       "      <td>71.2833</td>\n",
       "      <td>C85</td>\n",
       "      <td>C</td>\n",
       "    </tr>\n",
       "    <tr>\n",
       "      <th>2</th>\n",
       "      <td>3</td>\n",
       "      <td>1</td>\n",
       "      <td>3</td>\n",
       "      <td>Heikkinen, Miss. Laina</td>\n",
       "      <td>female</td>\n",
       "      <td>26.0</td>\n",
       "      <td>0</td>\n",
       "      <td>0</td>\n",
       "      <td>STON/O2. 3101282</td>\n",
       "      <td>7.9250</td>\n",
       "      <td>NaN</td>\n",
       "      <td>S</td>\n",
       "    </tr>\n",
       "    <tr>\n",
       "      <th>3</th>\n",
       "      <td>4</td>\n",
       "      <td>1</td>\n",
       "      <td>1</td>\n",
       "      <td>Futrelle, Mrs. Jacques Heath (Lily May Peel)</td>\n",
       "      <td>female</td>\n",
       "      <td>35.0</td>\n",
       "      <td>1</td>\n",
       "      <td>0</td>\n",
       "      <td>113803</td>\n",
       "      <td>53.1000</td>\n",
       "      <td>C123</td>\n",
       "      <td>S</td>\n",
       "    </tr>\n",
       "    <tr>\n",
       "      <th>4</th>\n",
       "      <td>5</td>\n",
       "      <td>0</td>\n",
       "      <td>3</td>\n",
       "      <td>Allen, Mr. William Henry</td>\n",
       "      <td>male</td>\n",
       "      <td>35.0</td>\n",
       "      <td>0</td>\n",
       "      <td>0</td>\n",
       "      <td>373450</td>\n",
       "      <td>8.0500</td>\n",
       "      <td>NaN</td>\n",
       "      <td>S</td>\n",
       "    </tr>\n",
       "  </tbody>\n",
       "</table>\n",
       "</div>"
      ],
      "text/plain": [
       "   PassengerId  Survived  Pclass  \\\n",
       "0            1         0       3   \n",
       "1            2         1       1   \n",
       "2            3         1       3   \n",
       "3            4         1       1   \n",
       "4            5         0       3   \n",
       "\n",
       "                                                Name     Sex   Age  SibSp  \\\n",
       "0                            Braund, Mr. Owen Harris    male  22.0      1   \n",
       "1  Cumings, Mrs. John Bradley (Florence Briggs Th...  female  38.0      1   \n",
       "2                             Heikkinen, Miss. Laina  female  26.0      0   \n",
       "3       Futrelle, Mrs. Jacques Heath (Lily May Peel)  female  35.0      1   \n",
       "4                           Allen, Mr. William Henry    male  35.0      0   \n",
       "\n",
       "   Parch            Ticket     Fare Cabin Embarked  \n",
       "0      0         A/5 21171   7.2500   NaN        S  \n",
       "1      0          PC 17599  71.2833   C85        C  \n",
       "2      0  STON/O2. 3101282   7.9250   NaN        S  \n",
       "3      0            113803  53.1000  C123        S  \n",
       "4      0            373450   8.0500   NaN        S  "
      ]
     },
     "execution_count": 406,
     "metadata": {},
     "output_type": "execute_result"
    }
   ],
   "source": [
    "titanic_df.head()"
   ]
  },
  {
   "cell_type": "code",
   "execution_count": 414,
   "metadata": {},
   "outputs": [
    {
     "data": {
      "text/plain": [
       "pandas.core.frame.DataFrame"
      ]
     },
     "execution_count": 414,
     "metadata": {},
     "output_type": "execute_result"
    }
   ],
   "source": [
    " type(titanic_df[[\"Embarked\", \"Survived\"]].groupby(['Embarked']).mean())"
   ]
  },
  {
   "cell_type": "code",
   "execution_count": 415,
   "metadata": {},
   "outputs": [
    {
     "data": {
      "text/plain": [
       "pandas.core.series.Series"
      ]
     },
     "execution_count": 415,
     "metadata": {},
     "output_type": "execute_result"
    }
   ],
   "source": [
    " type(titanic_df[\"Survived\"].groupby(titanic_df['Embarked']).mean())"
   ]
  },
  {
   "cell_type": "code",
   "execution_count": 416,
   "metadata": {},
   "outputs": [
    {
     "data": {
      "text/plain": [
       "array([0, 1, 2, 3, 4, 5])"
      ]
     },
     "execution_count": 416,
     "metadata": {},
     "output_type": "execute_result"
    }
   ],
   "source": [
    "np.arange(6)"
   ]
  },
  {
   "cell_type": "code",
   "execution_count": 665,
   "metadata": {},
   "outputs": [
    {
     "name": "stdout",
     "output_type": "stream",
     "text": [
      "<class 'pandas.core.frame.DataFrame'>\n",
      "RangeIndex: 891 entries, 0 to 890\n",
      "Data columns (total 12 columns):\n",
      "PassengerId    891 non-null int64\n",
      "Survived       891 non-null int64\n",
      "Pclass         891 non-null int64\n",
      "Name           891 non-null object\n",
      "Sex            891 non-null object\n",
      "Age            714 non-null float64\n",
      "SibSp          891 non-null int64\n",
      "Parch          891 non-null int64\n",
      "Ticket         891 non-null object\n",
      "Fare           891 non-null float64\n",
      "Cabin          204 non-null object\n",
      "Embarked       889 non-null object\n",
      "dtypes: float64(2), int64(5), object(5)\n",
      "memory usage: 83.6+ KB\n"
     ]
    },
    {
     "data": {
      "image/png": "[encoded data removed]",
      "text/plain": [
       "<matplotlib.figure.Figure at 0x1a17b73828>"
      ]
     },
     "metadata": {},
     "output_type": "display_data"
    }
   ],
   "source": [
    "#model = LogisticRegression(C=100)\n",
    "#model = GradientBoostingClassifier(n_estimators=100, learning_rate=0.05,max_depth=1)\n",
    "titanic_df = pd.read_csv('train.csv')\n",
    "sns.countplot('Embarked', data=titanic_df)\n",
    "titanic_df.info()\n",
    "pipeline = Pipeline([\n",
    "        ('standard_scaler', StandardScaler()),\n",
    "        ('gbdt',GradientBoostingClassifier())])\n",
    "#params = {\n",
    "#    'lg__C' : (1, 10,100),\n",
    "#}\n",
    "params={\"gbdt__n_estimators\": [10,100,200,500],\"gbdt__max_depth\": [1,3,10,100],\"gbdt__learning_rate\":[0.05,0.1]}\n",
    "clf = GridSearchCV(pipeline, params,cv=10,scoring='roc_auc')\n",
    "#clf = GridSearchCV(pipeline, params,cv=10)\n",
    "titanic_df = convert_df(titanic_df)\n",
    "x_train = shuffle(x_train)\n",
    "x_train = titanic_df.values[:,2:]\n",
    "y_train = titanic_df.values[:,1:2]\n",
    "x_test = titanic_df.values[500:,2:]\n",
    "y_test = titanic_df.values[500:,1:2]\n",
    "c, r = y_train.shape\n",
    "y_train = y_train.reshape(c,)"
   ]
  },
  {
   "cell_type": "code",
   "execution_count": 666,
   "metadata": {},
   "outputs": [
    {
     "data": {
      "text/plain": [
       "GridSearchCV(cv=10, error_score='raise',\n",
       "       estimator=Pipeline(memory=None,\n",
       "     steps=[('standard_scaler', StandardScaler(copy=True, with_mean=True, with_std=True)), ('gbdt', GradientBoostingClassifier(criterion='friedman_mse', init=None,\n",
       "              learning_rate=0.1, loss='deviance', max_depth=3,\n",
       "              max_features=None, max_leaf_nodes=None,\n",
       "              min_impuri...      presort='auto', random_state=None, subsample=1.0, verbose=0,\n",
       "              warm_start=False))]),\n",
       "       fit_params={}, iid=True, n_jobs=1,\n",
       "       param_grid={'gbdt__n_estimators': [10, 100, 200, 500], 'gbdt__max_depth': [1, 3, 10, 100], 'gbdt__learning_rate': [0.05, 0.1]},\n",
       "       pre_dispatch='2*n_jobs', refit=True, scoring='roc_auc', verbose=0)"
      ]
     },
     "execution_count": 666,
     "metadata": {},
     "output_type": "execute_result"
    }
   ],
   "source": [
    "clf.fit(x_train,y_train)"
   ]
  },
  {
   "cell_type": "code",
   "execution_count": 509,
   "metadata": {},
   "outputs": [
    {
     "data": {
      "text/plain": [
       "[mean: 0.78518, std: 0.04583, params: {'gbdt__learning_rate': 0.05, 'gbdt__max_depth': 1, 'gbdt__n_estimators': 10},\n",
       " mean: 0.83214, std: 0.04145, params: {'gbdt__learning_rate': 0.05, 'gbdt__max_depth': 1, 'gbdt__n_estimators': 100},\n",
       " mean: 0.83352, std: 0.04363, params: {'gbdt__learning_rate': 0.05, 'gbdt__max_depth': 1, 'gbdt__n_estimators': 200},\n",
       " mean: 0.82849, std: 0.04206, params: {'gbdt__learning_rate': 0.05, 'gbdt__max_depth': 1, 'gbdt__n_estimators': 500},\n",
       " mean: 0.84310, std: 0.05264, params: {'gbdt__learning_rate': 0.05, 'gbdt__max_depth': 3, 'gbdt__n_estimators': 10},\n",
       " mean: 0.83282, std: 0.04535, params: {'gbdt__learning_rate': 0.05, 'gbdt__max_depth': 3, 'gbdt__n_estimators': 100},\n",
       " mean: 0.83186, std: 0.05045, params: {'gbdt__learning_rate': 0.05, 'gbdt__max_depth': 3, 'gbdt__n_estimators': 200},\n",
       " mean: 0.84556, std: 0.05762, params: {'gbdt__learning_rate': 0.05, 'gbdt__max_depth': 3, 'gbdt__n_estimators': 500},\n",
       " mean: 0.77218, std: 0.06187, params: {'gbdt__learning_rate': 0.05, 'gbdt__max_depth': 10, 'gbdt__n_estimators': 10},\n",
       " mean: 0.80202, std: 0.07503, params: {'gbdt__learning_rate': 0.05, 'gbdt__max_depth': 10, 'gbdt__n_estimators': 100},\n",
       " mean: 0.82114, std: 0.05826, params: {'gbdt__learning_rate': 0.05, 'gbdt__max_depth': 10, 'gbdt__n_estimators': 200},\n",
       " mean: 0.84114, std: 0.05591, params: {'gbdt__learning_rate': 0.05, 'gbdt__max_depth': 10, 'gbdt__n_estimators': 500},\n",
       " mean: 0.76857, std: 0.06011, params: {'gbdt__learning_rate': 0.05, 'gbdt__max_depth': 100, 'gbdt__n_estimators': 10},\n",
       " mean: 0.77983, std: 0.05602, params: {'gbdt__learning_rate': 0.05, 'gbdt__max_depth': 100, 'gbdt__n_estimators': 100},\n",
       " mean: 0.82708, std: 0.04972, params: {'gbdt__learning_rate': 0.05, 'gbdt__max_depth': 100, 'gbdt__n_estimators': 200},\n",
       " mean: 0.83138, std: 0.04834, params: {'gbdt__learning_rate': 0.05, 'gbdt__max_depth': 100, 'gbdt__n_estimators': 500},\n",
       " mean: 0.78578, std: 0.04732, params: {'gbdt__learning_rate': 0.1, 'gbdt__max_depth': 1, 'gbdt__n_estimators': 10},\n",
       " mean: 0.83229, std: 0.04475, params: {'gbdt__learning_rate': 0.1, 'gbdt__max_depth': 1, 'gbdt__n_estimators': 100},\n",
       " mean: 0.83062, std: 0.04310, params: {'gbdt__learning_rate': 0.1, 'gbdt__max_depth': 1, 'gbdt__n_estimators': 200},\n",
       " mean: 0.82078, std: 0.04653, params: {'gbdt__learning_rate': 0.1, 'gbdt__max_depth': 1, 'gbdt__n_estimators': 500},\n",
       " mean: 0.84256, std: 0.05026, params: {'gbdt__learning_rate': 0.1, 'gbdt__max_depth': 3, 'gbdt__n_estimators': 10},\n",
       " mean: 0.83769, std: 0.04990, params: {'gbdt__learning_rate': 0.1, 'gbdt__max_depth': 3, 'gbdt__n_estimators': 100},\n",
       " mean: 0.84594, std: 0.05428, params: {'gbdt__learning_rate': 0.1, 'gbdt__max_depth': 3, 'gbdt__n_estimators': 200},\n",
       " mean: 0.84338, std: 0.06143, params: {'gbdt__learning_rate': 0.1, 'gbdt__max_depth': 3, 'gbdt__n_estimators': 500},\n",
       " mean: 0.77930, std: 0.06196, params: {'gbdt__learning_rate': 0.1, 'gbdt__max_depth': 10, 'gbdt__n_estimators': 10},\n",
       " mean: 0.82374, std: 0.05958, params: {'gbdt__learning_rate': 0.1, 'gbdt__max_depth': 10, 'gbdt__n_estimators': 100},\n",
       " mean: 0.84168, std: 0.05349, params: {'gbdt__learning_rate': 0.1, 'gbdt__max_depth': 10, 'gbdt__n_estimators': 200},\n",
       " mean: 0.84662, std: 0.05238, params: {'gbdt__learning_rate': 0.1, 'gbdt__max_depth': 10, 'gbdt__n_estimators': 500},\n",
       " mean: 0.76357, std: 0.05370, params: {'gbdt__learning_rate': 0.1, 'gbdt__max_depth': 100, 'gbdt__n_estimators': 10},\n",
       " mean: 0.82426, std: 0.05232, params: {'gbdt__learning_rate': 0.1, 'gbdt__max_depth': 100, 'gbdt__n_estimators': 100},\n",
       " mean: 0.83600, std: 0.05221, params: {'gbdt__learning_rate': 0.1, 'gbdt__max_depth': 100, 'gbdt__n_estimators': 200},\n",
       " mean: 0.83926, std: 0.04361, params: {'gbdt__learning_rate': 0.1, 'gbdt__max_depth': 100, 'gbdt__n_estimators': 500}]"
      ]
     },
     "execution_count": 509,
     "metadata": {},
     "output_type": "execute_result"
    }
   ],
   "source": [
    "clf.grid_scores_"
   ]
  },
  {
   "cell_type": "code",
   "execution_count": 512,
   "metadata": {},
   "outputs": [
    {
     "name": "stdout",
     "output_type": "stream",
     "text": [
      "Test set score: 0.8141189195185534\n",
      "Best parameters: {'gbdt__learning_rate': 0.1, 'gbdt__max_depth': 10, 'gbdt__n_estimators': 500}\n",
      "Best cross-validation: 0.8466153933220146\n"
     ]
    }
   ],
   "source": [
    "print('Test set score: {}'.format(clf.score(x_test, y_test)))\n",
    "print('Best parameters: {}'.format(clf.best_params_))\n",
    "print('Best cross-validation: {}'.format(clf.best_score_))"
   ]
  },
  {
   "cell_type": "code",
   "execution_count": 692,
   "metadata": {},
   "outputs": [
    {
     "name": "stdout",
     "output_type": "stream",
     "text": [
      "             precision    recall  f1-score   support\n",
      "\n",
      "        0.0       0.89      0.97      0.93       242\n",
      "        1.0       0.94      0.81      0.87       149\n",
      "\n",
      "avg / total       0.91      0.91      0.91       391\n",
      "\n",
      "[[235   7]\n",
      " [ 29 120]]\n"
     ]
    }
   ],
   "source": [
    "pred=clf.predict(x_test)\n",
    "predict_pro = clf.predict_proba(x_test)\n",
    "print(classification_report(y_test, pred))\n",
    "print(confusion_matrix(y_test,pred))"
   ]
  },
  {
   "cell_type": "code",
   "execution_count": 584,
   "metadata": {},
   "outputs": [],
   "source": [
    "precision,recall, thresholds = precision_recall_curve(y_test[:,0], predict_pro[:,1])\n",
    "area = auc(recall, precision)"
   ]
  },
  {
   "cell_type": "code",
   "execution_count": 689,
   "metadata": {},
   "outputs": [],
   "source": [
    "train_sizes, train_scores, test_scores = learning_curve(clf.best_estimator_, X=x_train, y=y_train,train_sizes=np.arange(0.1, 1.1, 0.1), cv=3,scoring=\"neg_log_loss\") "
   ]
  },
  {
   "cell_type": "code",
   "execution_count": 679,
   "metadata": {},
   "outputs": [
    {
     "data": {
      "text/plain": [
       "array([[ 1.,  1.,  1.]])"
      ]
     },
     "execution_count": 679,
     "metadata": {},
     "output_type": "execute_result"
    }
   ],
   "source": [
    "train_scores"
   ]
  },
  {
   "cell_type": "code",
   "execution_count": 690,
   "metadata": {},
   "outputs": [
    {
     "data": {
      "text/plain": [
       "[<matplotlib.lines.Line2D at 0x1a1ba3c400>,\n",
       " <matplotlib.lines.Line2D at 0x1a1b9e5048>,\n",
       " <matplotlib.lines.Line2D at 0x1a1b9e5198>]"
      ]
     },
     "execution_count": 690,
     "metadata": {},
     "output_type": "execute_result"
    },
    {
     "data": {
      "image/png": "[encoded data removed]",
      "text/plain": [
       "<matplotlib.figure.Figure at 0x1a1ba3c6a0>"
      ]
     },
     "metadata": {},
     "output_type": "display_data"
    }
   ],
   "source": [
    "plt.plot(train_sizes,train_scores)\n",
    "plt.plot(train_sizes,test_scores)"
   ]
  },
  {
   "cell_type": "code",
   "execution_count": 585,
   "metadata": {},
   "outputs": [
    {
     "data": {
      "text/plain": [
       "0.77772568480152704"
      ]
     },
     "execution_count": 585,
     "metadata": {},
     "output_type": "execute_result"
    }
   ],
   "source": [
    "area"
   ]
  },
  {
   "cell_type": "code",
   "execution_count": 693,
   "metadata": {},
   "outputs": [
    {
     "data": {
      "image/png": "[encoded data removed]",
      "text/plain": [
       "<matplotlib.figure.Figure at 0x1a1ba3ca58>"
      ]
     },
     "metadata": {},
     "output_type": "display_data"
    }
   ],
   "source": [
    "fpr, tpr, thresholds= roc_curve(y_test[:,0],predict_pro[:,1])\n",
    "plt.figure(figsize=(8,6))\n",
    "plt.plot(fpr, tpr)\n",
    "plt.title(\"ROC curve\")\n",
    "plt.xlabel(\"False Positive Rate\")\n",
    "plt.ylabel(\"True Positive Rate\")\n",
    "plt.show()"
   ]
  },
  {
   "cell_type": "code",
   "execution_count": 696,
   "metadata": {},
   "outputs": [
    {
     "name": "stdout",
     "output_type": "stream",
     "text": [
      "             precision    recall  f1-score   support\n",
      "\n",
      "        0.0       0.81      1.00      0.89       242\n",
      "        1.0       1.00      0.61      0.76       149\n",
      "\n",
      "avg / total       0.88      0.85      0.84       391\n",
      "\n",
      "[[242   0]\n",
      " [ 58  91]]\n"
     ]
    }
   ],
   "source": [
    "predict_mine = np.where(predict_pro[:,1] > 0.8, 1, 0)\n",
    "print(classification_report(y_test, predict_mine))\n",
    "print(confusion_matrix(y_test,predict_mine))"
   ]
  },
  {
   "cell_type": "code",
   "execution_count": null,
   "metadata": {
    "collapsed": true
   },
   "outputs": [],
   "source": []
  },
  {
   "cell_type": "code",
   "execution_count": 465,
   "metadata": {},
   "outputs": [],
   "source": [
    "#model = GradientBoostingClassifier(n_estimators=100,max_depth=1,)\n",
    "pipeline = Pipeline([\n",
    "        ('standard_scaler', StandardScaler()),\n",
    "        ('gbdt',GradientBoostingClassifier(max_depth=3,n_estimators=200))])\n",
    "#params = {\n",
    "#    'lg__C' : (1, 10,100),\n",
    "#}\n",
    "model = pipeline\n",
    "x_train = titanic_df.values[:,2:]\n",
    "y_train = titanic_df.values[:,1:2]\n",
    "c, r = y_train.shape\n",
    "y_train = y_train.reshape(c,)\n",
    "model.fit(x_train,y_train)\n",
    "test_df = pd.read_csv('test.csv')\n",
    "test_df = convert_df(test_df)\n",
    "test_df['Fare'].fillna(0,inplace=True)\n",
    "test_x = test_df.values[:,1:]\n",
    "#test_y = test_df.values[:,0:1]\n",
    "class_predict = model.predict(test_x)"
   ]
  },
  {
   "cell_type": "code",
   "execution_count": 632,
   "metadata": {},
   "outputs": [],
   "source": [
    "predict_pro = clf.predict_proba(test_x)\n",
    "predict_mine = np.where(predict_pro[:,1] > 0.8, 1, 0)\n",
    "zip_data = zip(test_df.values[:,0].astype(int),predict_mine.astype(int))\n",
    "res = list(zip_data)\n",
    "res_df = pd.DataFrame(res)\n",
    "res_df.columns = [\"PassengerId\",\"Survived\"]\n",
    "res_df.to_csv(\"predict_result_data3.csv\",index=False)"
   ]
  },
  {
   "cell_type": "code",
   "execution_count": 694,
   "metadata": {
    "collapsed": true
   },
   "outputs": [],
   "source": [
    "test_df = pd.read_csv('test.csv')\n",
    "test_df = convert_df(test_df)\n",
    "test_df['Fare'].fillna(0,inplace=True)\n",
    "test_x = test_df.values[:,1:]\n",
    "#test_y = test_df.values[:,0:1]\n",
    "class_predict =clf.predict(test_x)"
   ]
  },
  {
   "cell_type": "code",
   "execution_count": 695,
   "metadata": {
    "collapsed": true
   },
   "outputs": [],
   "source": [
    "zip_data = zip(test_df.values[:,0].astype(int),class_predict.astype(int))\n",
    "res = list(zip_data)\n",
    "res_df = pd.DataFrame(res)\n",
    "res_df.columns = [\"PassengerId\",\"Survived\"]\n",
    "res_df.to_csv(\"predict_result_data.csv\",index=False)"
   ]
  },
  {
   "cell_type": "code",
   "execution_count": null,
   "metadata": {
    "collapsed": true
   },
   "outputs": [],
   "source": []
  }
 ],
 "metadata": {
  "kernelspec": {
   "display_name": "Python 3",
   "language": "python",
   "name": "python3"
  },
  "language_info": {
   "codemirror_mode": {
    "name": "ipython",
    "version": 3
   },
   "file_extension": ".py",
   "mimetype": "text/x-python",
   "name": "python",
   "nbconvert_exporter": "python",
   "pygments_lexer": "ipython3",
   "version": "3.6.3"
  }
 },
 "nbformat": 4,
 "nbformat_minor": 2
}
