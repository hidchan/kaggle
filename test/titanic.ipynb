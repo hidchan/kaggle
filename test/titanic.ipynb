{
 "cells": [
  {
   "cell_type": "code",
   "execution_count": 441,
   "metadata": {},
   "outputs": [],
   "source": [
    "import numpy as np\n",
    "import pandas as pd\n",
    "from pandas import Series,DataFrame\n",
    "import numpy as np\n",
    "import matplotlib.pyplot as plt\n",
    "import seaborn as sns\n",
    "%matplotlib inline\n",
    "from sklearn.linear_model import LogisticRegression\n",
    "from sklearn.ensemble import GradientBoostingClassifier,RandomForestClassifier,VotingClassifier\n",
    "from sklearn.svm import SVC\n",
    "from sklearn.pipeline import Pipeline\n",
    "from sklearn.preprocessing import StandardScaler\n",
    "#from sklearn.grid_search import GridSearchCV,RandomizedSearchCV\n",
    "from sklearn.model_selection import GridSearchCV,RandomizedSearchCV, train_test_split\n",
    "from sklearn.metrics import confusion_matrix, classification_report\n",
    "from sklearn.utils import shuffle\n",
    "from sklearn.metrics import classification_report, roc_auc_score, precision_recall_curve, auc, roc_curve\n",
    "from sklearn.learning_curve import learning_curve"
   ]
  },
  {
   "cell_type": "code",
   "execution_count": 4,
   "metadata": {
    "collapsed": true
   },
   "outputs": [],
   "source": [
    "def feature_sex(s):\n",
    "    if(s =='male'):\n",
    "        return 0\n",
    "    else:\n",
    "        return 1"
   ]
  },
  {
   "cell_type": "code",
   "execution_count": 207,
   "metadata": {
    "collapsed": true
   },
   "outputs": [],
   "source": [
    "def feature_embarked(s):\n",
    "    if(s == 'S'):\n",
    "        return pd.Series([1,0,0])\n",
    "    elif(s =='C'):\n",
    "        return pd.Series([0,1,0])\n",
    "    elif(s =='Q'):\n",
    "        return pd.Series([0,0,1])\n",
    "    else:\n",
    "        return pd.Series([1,0,0])\n",
    "def get_person(passenger):\n",
    "    age,sex = passenger\n",
    "    return 'child' if age < 16 else sex\n",
    "def get_ageband(age):\n",
    "    if(age <= 16):\n",
    "        return 0\n",
    "    elif(age >16 and age <= 32):\n",
    "        return 1\n",
    "    elif(age >32 and age <=48):\n",
    "        return 2\n",
    "    elif(age > 48 and age <= 64):\n",
    "        return 3\n",
    "    else:\n",
    "        return 4\n",
    "def isAlone(f):\n",
    "    if(f == 1):\n",
    "        return 1\n",
    "    else:\n",
    "        return 0"
   ]
  },
  {
   "cell_type": "code",
   "execution_count": 367,
   "metadata": {
    "collapsed": true
   },
   "outputs": [],
   "source": [
    "titanic_df = pd.read_csv('train.csv')"
   ]
  },
  {
   "cell_type": "code",
   "execution_count": 390,
   "metadata": {
    "collapsed": true
   },
   "outputs": [],
   "source": [
    "def convert_df(titanic_df):\n",
    "    titanic_df['Title'] = titanic_df.Name.str.extract(' ([A-Za-z]+)\\.', expand=False)\n",
    "    titanic_df['Title'] = titanic_df['Title'].replace(['Lady', 'Countess','Capt', 'Col','Don', 'Dr', 'Major', 'Rev', 'Sir', 'Jonkheer', 'Dona'], 'Rare')\n",
    "    titanic_df['Title'] = titanic_df['Title'].replace('Mlle', 'Miss')\n",
    "    titanic_df['Title'] = titanic_df['Title'].replace('Ms', 'Miss')\n",
    "    titanic_df['Title'] = titanic_df['Title'].replace('Mme', 'Mrs')\n",
    "    name_dummies =  pd.get_dummies(titanic_df['Title'])\n",
    "    titanic_df = titanic_df.join(name_dummies )\n",
    "    titanic_df.drop(['Title'],axis=1,inplace=True)\n",
    "    titanic_df[['S','C','Q']] = titanic_df['Embarked'].apply(feature_embarked)\n",
    "    titanic_df.drop(['Name','Ticket','Cabin','Embarked','S'],axis=1,inplace=True)\n",
    "    titanic_df['Age'].fillna(titanic_df['Age'].median(axis=0),inplace=True)\n",
    "    titanic_df['Fare'].fillna(titanic_df['Fare'].median(axis=0),inplace=True)\n",
    "    #titanic_df['Sex'] = titanic_df['Sex'].apply(feature_sex)\n",
    "    titanic_df['Sex'] = titanic_df[['Age','Sex']].apply(get_person,axis=1)\n",
    "    #titanic_df['Age'] = titanic_df['Age'].apply(get_ageband)\n",
    "    person_dummies_titanic  = pd.get_dummies(titanic_df['Sex'])\n",
    "    #person_dummies_titanic  = pd.get_dummies(titanic_df['Sex'])\n",
    "   # person_dummies_titanic.columns = ['Child','Female','Male']\n",
    "   # person_dummies_titanic.drop(['Male'], axis=1, inplace=True)\n",
    "    titanic_df = titanic_df.join(person_dummies_titanic)\n",
    "    titanic_df['FamilySize'] = titanic_df['SibSp'] + titanic_df['Parch'] + 1\n",
    "    titanic_df['FamilySize'] = titanic_df['FamilySize'].apply(isAlone)\n",
    "    titanic_df.drop(['SibSp','Parch'],axis=1,inplace=True)\n",
    "    titanic_df.drop(['Sex'],axis=1,inplace=True)\n",
    "    return titanic_df"
   ]
  },
  {
   "cell_type": "code",
   "execution_count": 8,
   "metadata": {
    "collapsed": true
   },
   "outputs": [],
   "source": [
    "cr =titanic_df.columns"
   ]
  },
  {
   "cell_type": "code",
   "execution_count": 368,
   "metadata": {},
   "outputs": [
    {
     "name": "stdout",
     "output_type": "stream",
     "text": [
      "<class 'pandas.core.frame.DataFrame'>\n",
      "RangeIndex: 891 entries, 0 to 890\n",
      "Data columns (total 12 columns):\n",
      "PassengerId    891 non-null int64\n",
      "Survived       891 non-null int64\n",
      "Pclass         891 non-null int64\n",
      "Name           891 non-null object\n",
      "Sex            891 non-null object\n",
      "Age            714 non-null float64\n",
      "SibSp          891 non-null int64\n",
      "Parch          891 non-null int64\n",
      "Ticket         891 non-null object\n",
      "Fare           891 non-null float64\n",
      "Cabin          204 non-null object\n",
      "Embarked       889 non-null object\n",
      "dtypes: float64(2), int64(5), object(5)\n",
      "memory usage: 83.6+ KB\n"
     ]
    }
   ],
   "source": [
    "titanic_df.info()"
   ]
  },
  {
   "cell_type": "code",
   "execution_count": 22,
   "metadata": {},
   "outputs": [
    {
     "data": {
      "image/png": "[encoded data removed]",
      "text/plain": [
       "<matplotlib.figure.Figure at 0x1a15eecfd0>"
      ]
     },
     "metadata": {},
     "output_type": "display_data"
    }
   ],
   "source": [
    "heatmap = sns.heatmap(titanic_df.corr(),cbar=True,cmap=\"Accent\",fmt='.2f',square=True,annot=True)"
   ]
  },
  {
   "cell_type": "code",
   "execution_count": 418,
   "metadata": {},
   "outputs": [],
   "source": [
    "#model = LogisticRegression(C=100)\n",
    "#model = GradientBoostingClassifier(n_estimators=100, learning_rate=0.05,max_depth=1)\n",
    "titanic_df = pd.read_csv('train.csv')\n",
    "#sns.countplot('Embarked', data=titanic_df)\n",
    "pipeline = Pipeline([\n",
    "        ('standard_scaler', StandardScaler()),\n",
    "        ('gbdt',GradientBoostingClassifier(random_state=12))])\n",
    "        #('rf',RandomForestClassifier())])\n",
    "params = {'gbdt__n_estimators': [100], 'gbdt__max_depth': [3,5,10], 'gbdt__learning_rate': [0.1],\n",
    "          'gbdt__subsample':[0.4,0.6,0.8]}\n",
    "#params={\"rf__n_estimators\": [1,5,10,100,200],\"rf__max_depth\":list(range(1,10,2))}\n",
    "clf = GridSearchCV(pipeline, params,cv=10,return_train_score=True,scoring='accuracy')\n",
    "#clf = RandomizedSearchCV(pipeline, params,cv=10,scoring='roc_auc')\n",
    "#clf = GridSearchCV(pipeline, params,cv=10)\n",
    "titanic_df = convert_df(titanic_df)\n",
    "x_train, x_test, y_train, y_test = train_test_split(titanic_df.values[:,2:], titanic_df.values[:,1:2], test_size=0.2, random_state=42)\n",
    "#x_train = titanic_df.values[:,2:]\n",
    "#y_train = titanic_df.values[:,1:2]\n",
    "#x_test = titanic_df.values[500:,2:]\n",
    "#y_test = titanic_df.values[500:,1:2]\n",
    "c, r = y_train.shape\n",
    "y_train = y_train.reshape(c,)"
   ]
  },
  {
   "cell_type": "code",
   "execution_count": 451,
   "metadata": {},
   "outputs": [
    {
     "name": "stdout",
     "output_type": "stream",
     "text": [
      "Test set score: 0.8044692737430168\n",
      "Best parameters: {'v__gbdt__learning_rate': 0.1, 'v__gbdt__max_depth': 5, 'v__gbdt__n_estimators': 100, 'v__gbdt__subsample': 0.6, 'v__lr__C': 100.0, 'v__rf__max_depth': 5, 'v__rf__n_estimators': 200, 'v__svm__C': 5}\n",
      "Best cross-validation: 0.8426966292134831\n"
     ]
    }
   ],
   "source": [
    "log_clf = LogisticRegression()\n",
    "gbdt_clf = GradientBoostingClassifier()\n",
    "rf_clf = RandomForestClassifier()\n",
    "svm_clf = SVC(probability=True)\n",
    "clf = VotingClassifier(\n",
    "    estimators=[ ('lr',log_clf),\n",
    "                ('gbdt',gbdt_clf),\n",
    "                ('rf',rf_clf),\n",
    "                ('svm',svm_clf)\n",
    "                   ],voting='soft'\n",
    ")\n",
    "pipeline = Pipeline([\n",
    "     ('standard_scaler', StandardScaler()),\n",
    "     ('v',clf)\n",
    "])\n",
    "params = {'v__lr__C': [100.0],\n",
    "          'v__rf__n_estimators': [100,200], \n",
    "          'v__rf__max_depth': [3,5],\n",
    "          'v__gbdt__n_estimators': [100], \n",
    "          'v__gbdt__max_depth': [3,5],\n",
    "          'v__gbdt__learning_rate': [0.1],\n",
    "          'v__gbdt__subsample':[0.4,0.6,0.8],\n",
    "          'v__svm__C': [5,10,20],\n",
    "         }\n",
    "grid =  GridSearchCV(pipeline,params,cv=10,return_train_score=True,scoring='accuracy')\n",
    "grid.fit(x_train,y_train)\n",
    "print('Test set score: {}'.format(grid.score(x_test, y_test)))\n",
    "print('Best parameters: {}'.format(grid.best_params_))\n",
    "print('Best cross-validation: {}'.format(grid.best_score_))"
   ]
  },
  {
   "cell_type": "code",
   "execution_count": null,
   "metadata": {},
   "outputs": [],
   "source": [
    "pipeline_rf = Pipeline([\n",
    "        ('standard_scaler', StandardScaler()),\n",
    "        ('rf',RandomForestClassifier())])\n",
    "params = {'rf__n_estimators': [50,100,200], 'rf__max_depth': [3,5,10],}\n",
    "clf1 = GridSearchCV(pipeline_rf, params,cv=10,return_train_score=True,scoring='accuracy')\n",
    "pipeline_lg = Pipeline([\n",
    "        ('standard_scaler', StandardScaler()),\n",
    "        ('lg',LogisticRegression())])\n",
    "params = {'lg__C': [100,200,300], }\n",
    "clf2 = GridSearchCV(pipeline_lg,params,cv=10,return_train_score=True,scoring='accuracy')\n",
    "pipeline_gbdt = Pipeline([\n",
    "        ('standard_scaler', StandardScaler()),\n",
    "        ('gbdt',GradientBoostingClassifier())])\n",
    "params = {'gbdt__n_estimators': [100,200], 'gbdt__max_depth': [3,5,10], 'gbdt__learning_rate': [0.1],\n",
    "          'gbdt__subsample':[0.4,0.6,0.8]}\n",
    "clf3 = GridSearchCV(pipeline_gbdt, params,cv=10,return_train_score=True,scoring='accuracy')\n",
    "clf1.fit(x_train,y_train)\n",
    "print(\"RandomForest-------\")\n",
    "print('Test set score: {}'.format(clf1.score(x_test, y_test)))\n",
    "print('Best parameters: {}'.format(clf1.best_params_))\n",
    "print('Best cross-validation: {}'.format(clf1.best_score_))\n",
    "clf2.fit(x_train,y_train)\n",
    "\n",
    "print(\"LogistiRegression-------\")\n",
    "print('Test set score: {}'.format(clf2.score(x_test, y_test)))\n",
    "print('Best parameters: {}'.format(clf2.best_params_))\n",
    "print('Best cross-validation: {}'.format(clf2.best_score_))\n",
    "clf3.fit(x_train,y_train)\n",
    "print(\"GBDT-------\")\n",
    "print('Test set score: {}'.format(clf3.score(x_test, y_test)))\n",
    "print('Best parameters: {}'.format(clf3.best_params_))\n",
    "print('Best cross-validation: {}'.format(clf3.best_score_))\n",
    "\n",
    "\n",
    "predict_pro1 = clf1.predict_proba(x_test)\n",
    "predict_pro2 = clf2.predict_proba(x_test)\n",
    "predict_pro3 = clf3.predict_proba(x_test)\n",
    "\n",
    "plt.figure(figsize=(8,6))\n",
    "fpr1, tpr1, thresholds= roc_curve(y_test[:,0],predict_pro1[:,1])\n",
    "fpr2, tpr2, thresholds= roc_curve(y_test[:,0],predict_pro2[:,1])\n",
    "fpr3, tpr3, thresholds= roc_curve(y_test[:,0],predict_pro3[:,1])\n",
    "plt.plot(fpr1, tpr1,label=\"RndomForest\")\n",
    "plt.plot(fpr2, tpr2,label=\"LogisticRegression\")\n",
    "plt.plot(fpr3, tpr3,label=\"GBDT\")\n",
    "plt.title(\"ROC curve\")\n",
    "plt.xlabel(\"False Positive Rate\")\n",
    "plt.ylabel(\"True Positive Rate\")\n",
    "plt.legend(loc='best')\n",
    "plt.show()\n",
    "\n"
   ]
  },
  {
   "cell_type": "code",
   "execution_count": 393,
   "metadata": {},
   "outputs": [
    {
     "data": {
      "text/html": [
       "<div>\n",
       "<style>\n",
       "    .dataframe thead tr:only-child th {\n",
       "        text-align: right;\n",
       "    }\n",
       "\n",
       "    .dataframe thead th {\n",
       "        text-align: left;\n",
       "    }\n",
       "\n",
       "    .dataframe tbody tr th {\n",
       "        vertical-align: top;\n",
       "    }\n",
       "</style>\n",
       "<table border=\"1\" class=\"dataframe\">\n",
       "  <thead>\n",
       "    <tr style=\"text-align: right;\">\n",
       "      <th></th>\n",
       "      <th>PassengerId</th>\n",
       "      <th>Survived</th>\n",
       "      <th>Pclass</th>\n",
       "      <th>Age</th>\n",
       "      <th>Fare</th>\n",
       "      <th>Master</th>\n",
       "      <th>Miss</th>\n",
       "      <th>Mr</th>\n",
       "      <th>Mrs</th>\n",
       "      <th>Rare</th>\n",
       "      <th>C</th>\n",
       "      <th>Q</th>\n",
       "      <th>child</th>\n",
       "      <th>female</th>\n",
       "      <th>male</th>\n",
       "      <th>FamilySize</th>\n",
       "    </tr>\n",
       "  </thead>\n",
       "  <tbody>\n",
       "    <tr>\n",
       "      <th>0</th>\n",
       "      <td>1</td>\n",
       "      <td>0</td>\n",
       "      <td>3</td>\n",
       "      <td>22.0</td>\n",
       "      <td>7.2500</td>\n",
       "      <td>0</td>\n",
       "      <td>0</td>\n",
       "      <td>1</td>\n",
       "      <td>0</td>\n",
       "      <td>0</td>\n",
       "      <td>0</td>\n",
       "      <td>0</td>\n",
       "      <td>0</td>\n",
       "      <td>0</td>\n",
       "      <td>1</td>\n",
       "      <td>0</td>\n",
       "    </tr>\n",
       "    <tr>\n",
       "      <th>1</th>\n",
       "      <td>2</td>\n",
       "      <td>1</td>\n",
       "      <td>1</td>\n",
       "      <td>38.0</td>\n",
       "      <td>71.2833</td>\n",
       "      <td>0</td>\n",
       "      <td>0</td>\n",
       "      <td>0</td>\n",
       "      <td>1</td>\n",
       "      <td>0</td>\n",
       "      <td>1</td>\n",
       "      <td>0</td>\n",
       "      <td>0</td>\n",
       "      <td>1</td>\n",
       "      <td>0</td>\n",
       "      <td>0</td>\n",
       "    </tr>\n",
       "    <tr>\n",
       "      <th>2</th>\n",
       "      <td>3</td>\n",
       "      <td>1</td>\n",
       "      <td>3</td>\n",
       "      <td>26.0</td>\n",
       "      <td>7.9250</td>\n",
       "      <td>0</td>\n",
       "      <td>1</td>\n",
       "      <td>0</td>\n",
       "      <td>0</td>\n",
       "      <td>0</td>\n",
       "      <td>0</td>\n",
       "      <td>0</td>\n",
       "      <td>0</td>\n",
       "      <td>1</td>\n",
       "      <td>0</td>\n",
       "      <td>1</td>\n",
       "    </tr>\n",
       "    <tr>\n",
       "      <th>3</th>\n",
       "      <td>4</td>\n",
       "      <td>1</td>\n",
       "      <td>1</td>\n",
       "      <td>35.0</td>\n",
       "      <td>53.1000</td>\n",
       "      <td>0</td>\n",
       "      <td>0</td>\n",
       "      <td>0</td>\n",
       "      <td>1</td>\n",
       "      <td>0</td>\n",
       "      <td>0</td>\n",
       "      <td>0</td>\n",
       "      <td>0</td>\n",
       "      <td>1</td>\n",
       "      <td>0</td>\n",
       "      <td>0</td>\n",
       "    </tr>\n",
       "    <tr>\n",
       "      <th>4</th>\n",
       "      <td>5</td>\n",
       "      <td>0</td>\n",
       "      <td>3</td>\n",
       "      <td>35.0</td>\n",
       "      <td>8.0500</td>\n",
       "      <td>0</td>\n",
       "      <td>0</td>\n",
       "      <td>1</td>\n",
       "      <td>0</td>\n",
       "      <td>0</td>\n",
       "      <td>0</td>\n",
       "      <td>0</td>\n",
       "      <td>0</td>\n",
       "      <td>0</td>\n",
       "      <td>1</td>\n",
       "      <td>1</td>\n",
       "    </tr>\n",
       "  </tbody>\n",
       "</table>\n",
       "</div>"
      ],
      "text/plain": [
       "   PassengerId  Survived  Pclass   Age     Fare  Master  Miss  Mr  Mrs  Rare  \\\n",
       "0            1         0       3  22.0   7.2500       0     0   1    0     0   \n",
       "1            2         1       1  38.0  71.2833       0     0   0    1     0   \n",
       "2            3         1       3  26.0   7.9250       0     1   0    0     0   \n",
       "3            4         1       1  35.0  53.1000       0     0   0    1     0   \n",
       "4            5         0       3  35.0   8.0500       0     0   1    0     0   \n",
       "\n",
       "   C  Q  child  female  male  FamilySize  \n",
       "0  0  0      0       0     1           0  \n",
       "1  1  0      0       1     0           0  \n",
       "2  0  0      0       1     0           1  \n",
       "3  0  0      0       1     0           0  \n",
       "4  0  0      0       0     1           1  "
      ]
     },
     "execution_count": 393,
     "metadata": {},
     "output_type": "execute_result"
    }
   ],
   "source": [
    "titanic_df.head()"
   ]
  },
  {
   "cell_type": "code",
   "execution_count": 377,
   "metadata": {},
   "outputs": [
    {
     "data": {
      "text/plain": [
       "GridSearchCV(cv=10, error_score='raise',\n",
       "       estimator=Pipeline(memory=None,\n",
       "     steps=[('standard_scaler', StandardScaler(copy=True, with_mean=True, with_std=True)), ('gbdt', GradientBoostingClassifier(criterion='friedman_mse', init=None,\n",
       "              learning_rate=0.1, loss='deviance', max_depth=3,\n",
       "              max_features=None, max_leaf_nodes=None,\n",
       "              min_impuri...        presort='auto', random_state=12, subsample=1.0, verbose=0,\n",
       "              warm_start=False))]),\n",
       "       fit_params=None, iid=True, n_jobs=1,\n",
       "       param_grid={'gbdt__n_estimators': [100], 'gbdt__max_depth': [3, 5, 10], 'gbdt__learning_rate': [0.1], 'gbdt__subsample': [0.4, 0.6, 0.8]},\n",
       "       pre_dispatch='2*n_jobs', refit=True, return_train_score=True,\n",
       "       scoring='accuracy', verbose=0)"
      ]
     },
     "execution_count": 377,
     "metadata": {},
     "output_type": "execute_result"
    }
   ],
   "source": [
    "clf.fit(x_train,y_train)"
   ]
  },
  {
   "cell_type": "code",
   "execution_count": 378,
   "metadata": {},
   "outputs": [
    {
     "name": "stdout",
     "output_type": "stream",
     "text": [
      "Test set score: 0.8268156424581006\n",
      "Best parameters: {'gbdt__learning_rate': 0.1, 'gbdt__max_depth': 3, 'gbdt__n_estimators': 100, 'gbdt__subsample': 0.6}\n",
      "Best cross-validation: 0.8384831460674157\n"
     ]
    }
   ],
   "source": [
    "print('Test set score: {}'.format(clf.score(x_test, y_test)))\n",
    "print('Best parameters: {}'.format(clf.best_params_))\n",
    "print('Best cross-validation: {}'.format(clf.best_score_))"
   ]
  },
  {
   "cell_type": "code",
   "execution_count": 345,
   "metadata": {},
   "outputs": [
    {
     "data": {
      "text/html": [
       "<div>\n",
       "<style>\n",
       "    .dataframe thead tr:only-child th {\n",
       "        text-align: right;\n",
       "    }\n",
       "\n",
       "    .dataframe thead th {\n",
       "        text-align: left;\n",
       "    }\n",
       "\n",
       "    .dataframe tbody tr th {\n",
       "        vertical-align: top;\n",
       "    }\n",
       "</style>\n",
       "<table border=\"1\" class=\"dataframe\">\n",
       "  <thead>\n",
       "    <tr style=\"text-align: right;\">\n",
       "      <th></th>\n",
       "      <th>mean_fit_time</th>\n",
       "      <th>mean_score_time</th>\n",
       "      <th>mean_test_score</th>\n",
       "      <th>mean_train_score</th>\n",
       "      <th>param_gbdt__learning_rate</th>\n",
       "      <th>param_gbdt__max_depth</th>\n",
       "      <th>param_gbdt__n_estimators</th>\n",
       "      <th>param_gbdt__subsample</th>\n",
       "      <th>params</th>\n",
       "      <th>rank_test_score</th>\n",
       "      <th>...</th>\n",
       "      <th>split7_test_score</th>\n",
       "      <th>split7_train_score</th>\n",
       "      <th>split8_test_score</th>\n",
       "      <th>split8_train_score</th>\n",
       "      <th>split9_test_score</th>\n",
       "      <th>split9_train_score</th>\n",
       "      <th>std_fit_time</th>\n",
       "      <th>std_score_time</th>\n",
       "      <th>std_test_score</th>\n",
       "      <th>std_train_score</th>\n",
       "    </tr>\n",
       "  </thead>\n",
       "  <tbody>\n",
       "    <tr>\n",
       "      <th>0</th>\n",
       "      <td>0.079374</td>\n",
       "      <td>0.000613</td>\n",
       "      <td>0.824438</td>\n",
       "      <td>0.902467</td>\n",
       "      <td>0.1</td>\n",
       "      <td>3</td>\n",
       "      <td>100</td>\n",
       "      <td>0.4</td>\n",
       "      <td>{'gbdt__learning_rate': 0.1, 'gbdt__max_depth'...</td>\n",
       "      <td>1</td>\n",
       "      <td>...</td>\n",
       "      <td>0.859155</td>\n",
       "      <td>0.895476</td>\n",
       "      <td>0.728571</td>\n",
       "      <td>0.901869</td>\n",
       "      <td>0.914286</td>\n",
       "      <td>0.897196</td>\n",
       "      <td>0.011348</td>\n",
       "      <td>0.000138</td>\n",
       "      <td>0.063686</td>\n",
       "      <td>0.007341</td>\n",
       "    </tr>\n",
       "  </tbody>\n",
       "</table>\n",
       "<p>1 rows × 34 columns</p>\n",
       "</div>"
      ],
      "text/plain": [
       "   mean_fit_time  mean_score_time  mean_test_score  mean_train_score  \\\n",
       "0       0.079374         0.000613         0.824438          0.902467   \n",
       "\n",
       "  param_gbdt__learning_rate param_gbdt__max_depth param_gbdt__n_estimators  \\\n",
       "0                       0.1                     3                      100   \n",
       "\n",
       "  param_gbdt__subsample                                             params  \\\n",
       "0                   0.4  {'gbdt__learning_rate': 0.1, 'gbdt__max_depth'...   \n",
       "\n",
       "   rank_test_score       ...         split7_test_score  split7_train_score  \\\n",
       "0                1       ...                  0.859155            0.895476   \n",
       "\n",
       "   split8_test_score  split8_train_score  split9_test_score  \\\n",
       "0           0.728571            0.901869           0.914286   \n",
       "\n",
       "   split9_train_score  std_fit_time  std_score_time  std_test_score  \\\n",
       "0            0.897196      0.011348        0.000138        0.063686   \n",
       "\n",
       "   std_train_score  \n",
       "0         0.007341  \n",
       "\n",
       "[1 rows x 34 columns]"
      ]
     },
     "execution_count": 345,
     "metadata": {},
     "output_type": "execute_result"
    }
   ],
   "source": [
    "pd.DataFrame.from_dict(clf.cv_results_)"
   ]
  },
  {
   "cell_type": "code",
   "execution_count": 363,
   "metadata": {},
   "outputs": [
    {
     "name": "stdout",
     "output_type": "stream",
     "text": [
      "             precision    recall  f1-score   support\n",
      "\n",
      "        0.0       0.85      0.89      0.87       105\n",
      "        1.0       0.83      0.77      0.80        74\n",
      "\n",
      "avg / total       0.84      0.84      0.84       179\n",
      "\n",
      "[[93 12]\n",
      " [17 57]]\n"
     ]
    }
   ],
   "source": [
    "pred=clf.predict(x_test)\n",
    "predict_pro = clf.predict_proba(x_test)\n",
    "print(classification_report(y_test, pred))\n",
    "print(confusion_matrix(y_test,pred))"
   ]
  },
  {
   "cell_type": "code",
   "execution_count": 304,
   "metadata": {
    "collapsed": true
   },
   "outputs": [],
   "source": [
    "predict_pro = clf.predict_proba(x_test)\n",
    "precision,recall, thresholds = precision_recall_curve(y_test[:,0], predict_pro[:,1])\n",
    "area = auc(recall, precision)"
   ]
  },
  {
   "cell_type": "code",
   "execution_count": 347,
   "metadata": {
    "collapsed": true
   },
   "outputs": [],
   "source": [
    "train_sizes, train_scores, test_scores = learning_curve(clf.best_estimator_, X=x_train, y=y_train,train_sizes=np.arange(0.1, 1.1, 0.1), cv=3,scoring=\"neg_log_loss\") "
   ]
  },
  {
   "cell_type": "code",
   "execution_count": 679,
   "metadata": {},
   "outputs": [
    {
     "data": {
      "text/plain": [
       "array([[ 1.,  1.,  1.]])"
      ]
     },
     "execution_count": 679,
     "metadata": {},
     "output_type": "execute_result"
    }
   ],
   "source": [
    "train_scores"
   ]
  },
  {
   "cell_type": "code",
   "execution_count": 348,
   "metadata": {},
   "outputs": [
    {
     "data": {
      "text/plain": [
       "[<matplotlib.lines.Line2D at 0x104b636a0>,\n",
       " <matplotlib.lines.Line2D at 0x1a159c4048>,\n",
       " <matplotlib.lines.Line2D at 0x1a1716b198>]"
      ]
     },
     "execution_count": 348,
     "metadata": {},
     "output_type": "execute_result"
    },
    {
     "data": {
      "image/png": "[encoded data removed]",
      "text/plain": [
       "<matplotlib.figure.Figure at 0x104b63668>"
      ]
     },
     "metadata": {},
     "output_type": "display_data"
    }
   ],
   "source": [
    "plt.plot(train_sizes,train_scores)\n",
    "plt.plot(train_sizes,test_scores)"
   ]
  },
  {
   "cell_type": "code",
   "execution_count": 351,
   "metadata": {},
   "outputs": [
    {
     "data": {
      "text/plain": [
       "0.83222785520349607"
      ]
     },
     "execution_count": 351,
     "metadata": {},
     "output_type": "execute_result"
    }
   ],
   "source": [
    "area"
   ]
  },
  {
   "cell_type": "code",
   "execution_count": 452,
   "metadata": {},
   "outputs": [
    {
     "data": {
      "image/png": "[encoded data removed]",
      "text/plain": [
       "<matplotlib.figure.Figure at 0x104b5d1d0>"
      ]
     },
     "metadata": {},
     "output_type": "display_data"
    }
   ],
   "source": [
    "fpr, tpr, thresholds= roc_curve(y_test[:,0],predict_pro[:,1])\n",
    "plt.figure(figsize=(8,6))\n",
    "plt.plot(fpr, tpr)\n",
    "plt.title(\"ROC curve\")\n",
    "plt.xlabel(\"False Positive Rate\")\n",
    "plt.ylabel(\"True Positive Rate\")\n",
    "plt.show()"
   ]
  },
  {
   "cell_type": "code",
   "execution_count": 379,
   "metadata": {},
   "outputs": [
    {
     "data": {
      "image/png": "[encoded data removed]",
      "text/plain": [
       "<matplotlib.figure.Figure at 0x1a157ab7f0>"
      ]
     },
     "metadata": {},
     "output_type": "display_data"
    }
   ],
   "source": [
    "features =titanic_df.columns[2:]\n",
    "importances = clf.best_estimator_.steps[1][1].feature_importances_\n",
    "indices = np.argsort(importances)\n",
    "plt.figure(figsize=(6,6))\n",
    "plt.barh(range(len(indices)), importances[indices], color='b', align='center')\n",
    "plt.yticks(range(len(indices)), features[indices])\n",
    "plt.show()"
   ]
  },
  {
   "cell_type": "code",
   "execution_count": 696,
   "metadata": {},
   "outputs": [
    {
     "name": "stdout",
     "output_type": "stream",
     "text": [
      "             precision    recall  f1-score   support\n",
      "\n",
      "        0.0       0.81      1.00      0.89       242\n",
      "        1.0       1.00      0.61      0.76       149\n",
      "\n",
      "avg / total       0.88      0.85      0.84       391\n",
      "\n",
      "[[242   0]\n",
      " [ 58  91]]\n"
     ]
    }
   ],
   "source": [
    "predict_mine = np.where(predict_pro[:,1] > 0.8, 1, 0)\n",
    "print(classification_report(y_test, predict_mine))\n",
    "print(confusion_matrix(y_test,predict_mine))"
   ]
  },
  {
   "cell_type": "code",
   "execution_count": null,
   "metadata": {
    "collapsed": true
   },
   "outputs": [],
   "source": []
  },
  {
   "cell_type": "code",
   "execution_count": 707,
   "metadata": {
    "collapsed": true
   },
   "outputs": [],
   "source": [
    "#model = GradientBoostingClassifier(n_estimators=100,max_depth=1,)\n",
    "pipeline = Pipeline([\n",
    "        #('standard_scaler', StandardScaler()),\n",
    "        ('gbdt',GradientBoostingClassifier(learning_rate=0.1,max_depth=1,n_estimators=100))])\n",
    "#params = {\n",
    "#    'lg__C' : (1, 10,100),\n",
    "#}\n",
    "model = pipeline\n",
    "model = GradientBoostingClassifier(n_estimators=100, learning_rate=0.05,max_depth=1)\n",
    "x_train = titanic_df.values[:,2:]\n",
    "y_train = titanic_df.values[:,1:2]\n",
    "c, r = y_train.shape\n",
    "y_train = y_train.reshape(c,)\n",
    "model.fit(x_train,y_train)\n",
    "test_df = pd.read_csv('test.csv')\n",
    "test_df = convert_df(test_df)\n",
    "test_df['Fare'].fillna(0,inplace=True)\n",
    "test_x = test_df.values[:,1:]\n",
    "#test_y = test_df.values[:,0:1]\n",
    "class_predict = model.predict(test_x)\n",
    "test_df = pd.read_csv('test.csv')\n",
    "test_df = convert_df(test_df)\n",
    "test_df['Fare'].fillna(0,inplace=True)\n",
    "test_x = test_df.values[:,1:]\n",
    "#test_y = test_df.values[:,0:1]\n",
    "class_predict =model.predict(test_x)"
   ]
  },
  {
   "cell_type": "code",
   "execution_count": 632,
   "metadata": {
    "collapsed": true
   },
   "outputs": [],
   "source": [
    "predict_pro = clf.predict_proba(test_x)\n",
    "predict_mine = np.where(predict_pro[:,1] > 0.8, 1, 0)\n",
    "zip_data = zip(test_df.values[:,0].astype(int),predict_mine.astype(int))\n",
    "res = list(zip_data)\n",
    "res_df = pd.DataFrame(res)\n",
    "res_df.columns = [\"PassengerId\",\"Survived\"]\n",
    "res_df.to_csv(\"predict_result_data3.csv\",index=False)"
   ]
  },
  {
   "cell_type": "code",
   "execution_count": 373,
   "metadata": {
    "collapsed": true
   },
   "outputs": [],
   "source": [
    "test_df = pd.read_csv('test.csv')\n",
    "test_df = convert_df(test_df)\n",
    "test_x = test_df.values[:,1:]\n",
    "#test_y = test_df.values[:,0:1]\n",
    "class_predict =clf.predict(test_x)"
   ]
  },
  {
   "cell_type": "code",
   "execution_count": 374,
   "metadata": {
    "collapsed": true
   },
   "outputs": [],
   "source": [
    "zip_data = zip(test_df.values[:,0].astype(int),class_predict.astype(int))\n",
    "res = list(zip_data)\n",
    "res_df = pd.DataFrame(res)\n",
    "res_df.columns = [\"PassengerId\",\"Survived\"]\n",
    "res_df.to_csv(\"predict_result_data.csv\",index=False)"
   ]
  },
  {
   "cell_type": "code",
   "execution_count": null,
   "metadata": {
    "collapsed": true
   },
   "outputs": [],
   "source": []
  }
 ],
 "metadata": {
  "kernelspec": {
   "display_name": "Python 3",
   "language": "python",
   "name": "python3"
  },
  "language_info": {
   "codemirror_mode": {
    "name": "ipython",
    "version": 3
   },
   "file_extension": ".py",
   "mimetype": "text/x-python",
   "name": "python",
   "nbconvert_exporter": "python",
   "pygments_lexer": "ipython3",
   "version": "3.6.3"
  }
 },
 "nbformat": 4,
 "nbformat_minor": 2
}
